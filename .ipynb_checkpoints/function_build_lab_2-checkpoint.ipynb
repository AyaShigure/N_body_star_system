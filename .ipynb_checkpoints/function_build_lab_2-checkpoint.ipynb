{
 "cells": [
  {
   "cell_type": "code",
   "execution_count": null,
   "id": "0fedcd55-58a9-4fd8-8a9a-5f7c96556c9e",
   "metadata": {},
   "outputs": [],
   "source": [
    "import os\n",
    "\n",
    "os._exit(0)"
   ]
  },
  {
   "cell_type": "markdown",
   "id": "f84d5637-678f-4678-aa43-19b199bae0ec",
   "metadata": {},
   "source": [
    "### Todo\n",
    "1. Initial condition generator in 3D n-body (Start from a known near stable solution, then work from there)\n",
    "2. Visualization script generator for n-body\n",
    "3. Blender plugin, python controlled animations\n",
    "4. Build the sim directly in a vpython script? update a step -> visualize\n",
    "5. Blender web frontend api.\n",
    "6. Mass related body size\n",
    "7. Boundary Transportation.\n",
    "\n",
    "7. Body class, Re-organize the simulation to object oriented code(actually not necessary)\n"
   ]
  },
  {
   "cell_type": "code",
   "execution_count": 12,
   "id": "497b805b-ffdf-4782-9ee8-9b1101d9f917",
   "metadata": {},
   "outputs": [],
   "source": [
    "import time \n",
    "import numpy as np\n",
    "from tqdm import tqdm\n",
    "import matplotlib.pyplot as plt\n",
    "\n",
    "\n",
    "def list_size_reduction_hot_fix(input_list, desired_length):\n",
    "    \"\"\"\n",
    "    Reduce a list to a specified length by evenly removing elements.\n",
    "\n",
    "    :param input_list: list, the original list to be reduced.\n",
    "    :param desired_length: int, the desired length of the list.\n",
    "    :return: list, the reduced list.\n",
    "    \"\"\"\n",
    "    if desired_length <= 0:\n",
    "        raise ValueError(\"Desired length must be a positive integer.\")\n",
    "    \n",
    "    if desired_length >= len(input_list):\n",
    "        return input_list  # Return the original list if desired length is greater than or equal to the list length\n",
    "\n",
    "    # Calculate the step for evenly removing elements\n",
    "    step = len(input_list) / desired_length\n",
    "\n",
    "    # Select elements at evenly spaced indices\n",
    "    reduced_list = [input_list[int(i * step)] for i in range(desired_length)]\n",
    "\n",
    "    \n",
    "    return reduced_list"
   ]
  },
  {
   "cell_type": "code",
   "execution_count": 185,
   "id": "8e326e53-594a-45dc-88cf-bb07c14e066e",
   "metadata": {},
   "outputs": [],
   "source": [
    "def get_normalized_unit_vecter(vec):\n",
    "    normalized_unit_vec = vec / np.linalg.norm(vec)\n",
    "    return normalized_unit_vec\n",
    "\n",
    "def sigmoid(z):\n",
    "    return 1/(1 + np.exp(-z))\n"
   ]
  },
  {
   "cell_type": "code",
   "execution_count": null,
   "id": "7b673a26-2686-4e76-862f-7592781e1ee9",
   "metadata": {},
   "outputs": [],
   "source": []
  },
  {
   "cell_type": "code",
   "execution_count": 214,
   "id": "94e2a3b7-9a76-42d6-b312-f56cfe85bfd2",
   "metadata": {},
   "outputs": [],
   "source": [
    "def update_gravtational_interaction_matrix(p):\n",
    "    n = int(p.shape[0]/3) # Get the column number/number of the bodies\n",
    "    F_dir = np.zeros([3 * n, n]) # empty gravtational_interaction_matrix\n",
    "\n",
    "    p_i = np.zeros([3,1])\n",
    "    p_j = np.zeros([3,1])\n",
    "\n",
    "    for i in range(n):\n",
    "        for k in range(3):\n",
    "            p_i[k] = p[i * 3 + k] \n",
    "        for j in range(n):\n",
    "            if i == j: # Diagonal \n",
    "                F_dir[i*3+0,j] = 0.0\n",
    "                F_dir[i*3+1,j] = 0.0\n",
    "                F_dir[i*3+2,j] = 0.0\n",
    "            elif j > i: # Upper triangle exculding the diagnal\n",
    "                for k in range(3):\n",
    "                    p_j[k] = p[j * 3 + k]\n",
    "                F_ij = (p_j - p_i) / np.linalg.norm(p_j - p_i)**3\n",
    "                \n",
    "                for k in range(3):\n",
    "                    F_dir[i * 3 + k, j] = F_ij[k].item()\n",
    "                    F_dir[j * 3 + k, i] = -1. * F_ij[k].item()\n",
    "            else:\n",
    "                pass \n",
    "    return F_dir\n",
    "\n",
    "def update_resotring_force_vector(p):\n",
    "    F_c = 1e20 # Maximum resotring force\n",
    "    \n",
    "    n = int(p.shape[0]/3) # Get the column number/number of the bodies\n",
    "    F_resto = np.zeros([3 * n, 1]) # empty restoring force vector\n",
    "    \n",
    "    p_i = np.zeros([3,1]) # Empty position vecter\n",
    "    F_resto_i = np.zeros([3,1]) # Empty resto force vecter\n",
    "    for i in range(n):\n",
    "        for k in range(3):\n",
    "            p_i[k] = p[i * 3 + k] # get ith position vecter\n",
    "        ## Calculate the restoring force ## \n",
    "        p_i_unit_vec = get_normalized_unit_vecter(p_i)\n",
    "        # F_resto = -1. *  F_c * p_i_unit_vec *np.exp(np.linalg.norm(p_i) - d_off)\n",
    "        F_resto_i = -1. *  F_c * p_i_unit_vec * sigmoid(np.linalg.norm(p_i))\n",
    "        for k in range(3): # put the result in the general restoring force\n",
    "            F_resto[3 * i + k] = F_resto_i[k]\n",
    "        # print(f'debug: \\n{F_resto}')\n",
    "\n",
    "    return F_resto\n",
    "\n",
    "\n",
    "# Euler's method\n",
    "def i_will_return_the_rough_n_body_problem_solution_for_im_using_the_eulers_method(dt, simulation_steps, initial_p, initial_dpdt, mass_vector):\n",
    "    # Data logger\n",
    "    # time_stamp = np.zeros(1)\n",
    "    # print(time_stamp)\n",
    "    # p_solution = np.zeros([3 * n, 1])\n",
    "    # dpdt_solution = np.zeros([3 * n, 1])\n",
    "\n",
    "    # Log the initial conditions\n",
    "    time_stamp = np.ndarray(1)\n",
    "    time_stamp[0] = 0.0\n",
    "    p_solution = initial_p\n",
    "    dpdt_solution = initial_dpdt\n",
    "    \n",
    "    # Initial conditions & start calculating\n",
    "    p_k = initial_p\n",
    "    dpdt_k = initial_dpdt\n",
    "    for step in tqdm(range(simulation_steps)):\n",
    "        F_dir_matrix_k = update_gravtational_interaction_matrix(p_k) \n",
    "        F_resto_k = update_resotring_force_vector(p_k)\n",
    "        \n",
    "        # Euler's method \n",
    "        p_k_plus_1 = p_k + dt * dpdt_k\n",
    "        dpdt_k_plus_1 = dpdt_k + dt * G * F_dir_matrix_k.dot(mass_vector)\n",
    "        # dpdt_k_plus_1 = dpdt_k + dt * ( G * F_dir_matrix_k.dot(mass_vector) + F_resto_k) # With the physics hack\n",
    "        # print(F_dir_matrix_k.dot(mass_vector))\n",
    "        # Log the results\n",
    "        time_stamp = np.c_[time_stamp, (step+1) * dt]\n",
    "        p_solution = np.c_[p_solution, p_k_plus_1]\n",
    "        dpdt_solution = np.c_[dpdt_solution, dpdt_k_plus_1]\n",
    "        \n",
    "        # Update p_[k] and dpdt_[k]\n",
    "        p_k = p_k_plus_1\n",
    "        dpdt_k = dpdt_k_plus_1\n",
    "        \n",
    "    solution = [time_stamp, p_solution, dpdt_solution]\n",
    "    return solution"
   ]
  },
  {
   "cell_type": "code",
   "execution_count": 298,
   "id": "5cf564b4-1b72-4b04-8edd-7fdc21c0b39e",
   "metadata": {},
   "outputs": [],
   "source": [
    "def Rz(theta):\n",
    "    return np.matrix([[ np.cos(theta), -np.sin(theta), 0 ],\n",
    "                    [ np.sin(theta), np.cos(theta) , 0 ],\n",
    "                    [ 0           , 0            , 1 ]])"
   ]
  },
  {
   "cell_type": "code",
   "execution_count": 493,
   "id": "f7d62b92-b795-4361-a5fb-875c33cec9dc",
   "metadata": {},
   "outputs": [
    {
     "data": {
      "text/plain": [
       "matrix([[ 8660.39720814, -5000.24797823,     0.        ]])"
      ]
     },
     "execution_count": 493,
     "metadata": {},
     "output_type": "execute_result"
    }
   ],
   "source": [
    "# v0 = np.array([-1.e5,0,0])\n",
    "v0 = np.array([-8660.54037844, -5000. , 0.])\n",
    "Rz(1* np.pi * 2/3).dot(v0)\n",
    "# Rz(np.pi / 6).dot(v0)"
   ]
  },
  {
   "cell_type": "code",
   "execution_count": 567,
   "id": "af210c5c-4539-4b2f-9b62-012d250a34f1",
   "metadata": {},
   "outputs": [
    {
     "data": {
      "text/plain": [
       "10.0"
      ]
     },
     "execution_count": 567,
     "metadata": {},
     "output_type": "execute_result"
    }
   ],
   "source": [
    "1e1"
   ]
  },
  {
   "cell_type": "code",
   "execution_count": 574,
   "id": "25d675e3-fa45-43c8-8794-b134ed725506",
   "metadata": {},
   "outputs": [
    {
     "data": {
      "text/plain": [
       "(9, 1)"
      ]
     },
     "execution_count": 574,
     "metadata": {},
     "output_type": "execute_result"
    }
   ],
   "source": [
    "# Initial conditions\n",
    "p_0 = np.array([[0.], # x\n",
    "                [10.], # y\n",
    "                [0.], # z\n",
    "                [-8.6], # x\n",
    "                [-5.0], # y\n",
    "                [0.], # z\n",
    "                [8.6], # x\n",
    "                [-5.0], # y\n",
    "                [0.] ])# z\n",
    "# dpdt_0 = (np.random.random([3 * n, 1])-0.5) * 1e5# Initial velocities of the bodies\n",
    "# dpdt_0 = np.zeros([3 * n, 1])\n",
    "dpdt_0 = np.array([[-8.54],\n",
    "                   [-5.],\n",
    "                   [0.],\n",
    "                   [8.5],\n",
    "                   [-5.],\n",
    "                   [0.],\n",
    "                   [0.],\n",
    "                   [1.0e1],\n",
    "                   [0.] ])\n",
    "p_0.shape"
   ]
  },
  {
   "cell_type": "code",
   "execution_count": 575,
   "id": "6631f240-5db1-41cd-ac4e-860d63eeb902",
   "metadata": {},
   "outputs": [],
   "source": [
    "# p_0 = np.array([[0.], # x\n",
    "#                 [1.e10], # y\n",
    "#                 [0.], # z\n",
    "#                 [-8.6e+09], # x\n",
    "#                 [-5.0e+09], # y\n",
    "#                 [0.], # z\n",
    "#                 [8.6e+09], # x\n",
    "#                 [-5.0e+09], # y\n",
    "#                 [0.] ])# z\n",
    "# # dpdt_0 = (np.random.random([3 * n, 1])-0.5) * 1e5# Initial velocities of the bodies\n",
    "# # dpdt_0 = np.zeros([3 * n, 1])\n",
    "# dpdt_0 = np.array([[-86602.54],\n",
    "#                    [-50000.],\n",
    "#                    [0.],\n",
    "#                    [86602.5],\n",
    "#                    [-50000.],\n",
    "#                    [0.],\n",
    "#                    [0.],\n",
    "#                    [1.0e+05],\n",
    "#                    [0.] ])\n",
    "# # Constants\n",
    "# n = 3\n",
    "# G = 6.6743e-11 # [m^3/(kg^1*s^2)]\n",
    "\n",
    "# mass_vector = np.zeros([n, 1])\n",
    "# mass_vector[0] = 5e30\n",
    "# mass_vector[1] = 5e30\n",
    "# mass_vector[2] = 5e30\n",
    "# # Simulation_conditions\n",
    "# dt = 200\n",
    "# simulation_steps = 6000"
   ]
  },
  {
   "cell_type": "code",
   "execution_count": 654,
   "id": "fff5488a-7d75-4e3e-bf18-a2a6ab749939",
   "metadata": {},
   "outputs": [
    {
     "name": "stdout",
     "output_type": "stream",
     "text": [
      "simulation time is 0.0023148148148148147 days\n"
     ]
    }
   ],
   "source": [
    "# Constants\n",
    "n = 3\n",
    "G = 6.6743e-11 # [m^3/(kg^1*s^2)]\n",
    "\n",
    "mass_vector = np.zeros([n, 1])\n",
    "mass_vector[0] = 5e17\n",
    "mass_vector[1] = 5e17\n",
    "mass_vector[2] = 5e17\n",
    "# Simulation_conditions\n",
    "dt = 10\n",
    "simulation_steps = 20\n",
    "\n",
    "print(f'simulation time is {dt * simulation_steps / (60*60*24)} days')\n",
    "# Euler's method"
   ]
  },
  {
   "cell_type": "code",
   "execution_count": 655,
   "id": "0064dbe9-7175-44c9-a660-41ecebb9d28b",
   "metadata": {},
   "outputs": [
    {
     "name": "stderr",
     "output_type": "stream",
     "text": [
      "\n",
      "100%|█████████████████████████████████████████| 20/20 [00:00<00:00, 3175.58it/s]\u001b[A\n"
     ]
    }
   ],
   "source": [
    "sol = i_will_return_the_rough_n_body_problem_solution_for_im_using_the_eulers_method(dt, simulation_steps, p_0, dpdt_0, mass_vector)"
   ]
  },
  {
   "cell_type": "code",
   "execution_count": 656,
   "id": "d19d168a-0061-4f55-a75c-eaa699e21c63",
   "metadata": {},
   "outputs": [
    {
     "data": {
      "image/png": "[encoded data removed]",
      "text/plain": [
       "<Figure size 640x480 with 1 Axes>"
      ]
     },
     "metadata": {},
     "output_type": "display_data"
    }
   ],
   "source": [
    "t_span = sol[0].T\n",
    "x1 = sol[1][0]\n",
    "y1 = sol[1][1]\n",
    "z1 = sol[1][2]\n",
    "\n",
    "x2 = sol[1][3]\n",
    "y2 = sol[1][4]\n",
    "z2 = sol[1][5]\n",
    "\n",
    "x3 = sol[1][6]\n",
    "y3 = sol[1][7]\n",
    "z3 = sol[1][8]\n",
    "\n",
    "l = [x1,x2,x3,y1,y2,y3,z1,z2,z3]\n",
    "for item in l:\n",
    "    plt.plot(item)\n",
    "plt.grid()\n",
    "plt.show()"
   ]
  },
  {
   "cell_type": "code",
   "execution_count": 657,
   "id": "a0313cac-20d4-421f-9531-ee84482f718b",
   "metadata": {},
   "outputs": [],
   "source": [
    "def list_element_size_normalize(in_list, normalizing_factor=1e10):\n",
    "    for i in range(len(in_list)):\n",
    "        in_list[i] = in_list[i] / normalizing_factor\n",
    "    return in_list"
   ]
  },
  {
   "cell_type": "code",
   "execution_count": 658,
   "id": "62ec1441-8371-4428-b795-efaf5f16069d",
   "metadata": {},
   "outputs": [
    {
     "data": {
      "text/plain": [
       "[0.0, 1e-10, 2e-10, 3e-10, 4e-10]"
      ]
     },
     "execution_count": 658,
     "metadata": {},
     "output_type": "execute_result"
    }
   ],
   "source": [
    "l1 = [0,1,2,3,4]\n",
    "l1= list_element_size_normalize(l1)\n",
    "l1"
   ]
  },
  {
   "cell_type": "code",
   "execution_count": 659,
   "id": "e372edc6-444c-49a2-b3ca-e05829c24e19",
   "metadata": {},
   "outputs": [
    {
     "data": {
      "image/png": "[encoded data removed]",
      "text/plain": [
       "<Figure size 640x480 with 1 Axes>"
      ]
     },
     "metadata": {},
     "output_type": "display_data"
    }
   ],
   "source": [
    "t_span = sol[0].T\n",
    "x1 = sol[1][0]\n",
    "y1 = sol[1][1]\n",
    "z1 = sol[1][2]\n",
    "\n",
    "x2 = sol[1][3]\n",
    "y2 = sol[1][4]\n",
    "z2 = sol[1][5]\n",
    "\n",
    "x3 = sol[1][6]\n",
    "y3 = sol[1][7]\n",
    "z3 = sol[1][8]\n",
    "\n",
    "# Size_reductions\n",
    "\n",
    "animation_time_step = 200\n",
    "x1 = list_size_reduction_hot_fix(x1, animation_time_step)\n",
    "y1 = list_size_reduction_hot_fix(y1, animation_time_step)\n",
    "z1 = list_size_reduction_hot_fix(z1, animation_time_step)\n",
    "x2 = list_size_reduction_hot_fix(x2, animation_time_step)\n",
    "y2 = list_size_reduction_hot_fix(y2, animation_time_step)\n",
    "z2 = list_size_reduction_hot_fix(z2, animation_time_step)\n",
    "x3 = list_size_reduction_hot_fix(x3, animation_time_step)\n",
    "y3 = list_size_reduction_hot_fix(y3, animation_time_step)\n",
    "z3 = list_size_reduction_hot_fix(z3, animation_time_step)\n",
    "\n",
    "l = [x1,y1,z1,x2,y2,z2,x3,y3,z3]\n",
    "for item in l:\n",
    "    plt.plot(item)\n",
    "plt.grid()\n",
    "plt.show()"
   ]
  },
  {
   "cell_type": "code",
   "execution_count": 660,
   "id": "b18de5ba-4426-4c7e-ad92-f9d37f2ccf60",
   "metadata": {},
   "outputs": [
    {
     "data": {
      "image/png": "[encoded data removed]",
      "text/plain": [
       "<Figure size 640x480 with 1 Axes>"
      ]
     },
     "metadata": {},
     "output_type": "display_data"
    }
   ],
   "source": [
    "plt.plot(x1,y1)\n",
    "plt.plot(x2,y2)\n",
    "plt.plot(x3,y3)\n",
    "# plt.plot(t_span, x1)\n",
    "plt.grid()\n",
    "plt.ylabel('y plane [m]')\n",
    "plt.xlabel('x plane [m]')\n",
    "plt.show()"
   ]
  },
  {
   "cell_type": "code",
   "execution_count": 661,
   "id": "59adbd1e-26a6-425e-9c0d-5e68b2428dbb",
   "metadata": {},
   "outputs": [],
   "source": [
    "t_span = sol[0].T\n",
    "x1 = sol[1][0]\n",
    "y1 = sol[1][1]\n",
    "z1 = sol[1][2]\n",
    "\n",
    "x2 = sol[1][3]\n",
    "y2 = sol[1][4]\n",
    "z2 = sol[1][5]\n",
    "\n",
    "x3 = sol[1][6]\n",
    "y3 = sol[1][7]\n",
    "z3 = sol[1][8]\n",
    "\n",
    "# Size_reductions\n",
    "x1 = list_size_reduction_hot_fix(x1, animation_time_step)\n",
    "y1 = list_size_reduction_hot_fix(y1, animation_time_step)\n",
    "z1 = list_size_reduction_hot_fix(z1, animation_time_step)\n",
    "x2 = list_size_reduction_hot_fix(x2, animation_time_step)\n",
    "y2 = list_size_reduction_hot_fix(y2, animation_time_step)\n",
    "z2 = list_size_reduction_hot_fix(z2, animation_time_step)\n",
    "x3 = list_size_reduction_hot_fix(x3, animation_time_step)\n",
    "y3 = list_size_reduction_hot_fix(y3, animation_time_step)\n",
    "z3 = list_size_reduction_hot_fix(z3, animation_time_step)\n",
    "\n",
    "\n",
    "x1 = list_element_size_normalize(x1) \n",
    "y1 = list_element_size_normalize(y1) \n",
    "z1 = list_element_size_normalize(z1) \n",
    "x2 = list_element_size_normalize(x2) \n",
    "y2 = list_element_size_normalize(y2) \n",
    "z2 = list_element_size_normalize(z2) \n",
    "x3 = list_element_size_normalize(x3) \n",
    "y3 = list_element_size_normalize(y3) \n",
    "z3 = list_element_size_normalize(z3) \n",
    "l = [x1,y1,z1,x2,y2,z2,x3,y3,z3]\n",
    "np.save('./data.npy', l)\n",
    "\n",
    "# os.system('python vp_test.py')"
   ]
  },
  {
   "cell_type": "code",
   "execution_count": null,
   "id": "68cc24e6-da56-47cf-a586-6c37cf9754c3",
   "metadata": {},
   "outputs": [],
   "source": []
  },
  {
   "cell_type": "code",
   "execution_count": null,
   "id": "61796ee7-55f6-4841-af1e-4b6b01c09abe",
   "metadata": {},
   "outputs": [],
   "source": []
  },
  {
   "cell_type": "code",
   "execution_count": null,
   "id": "d8d8b56d-7133-4ae7-adf4-2d6b5ca38d3b",
   "metadata": {},
   "outputs": [],
   "source": []
  },
  {
   "cell_type": "code",
   "execution_count": 521,
   "id": "8abc89f3-99a4-4cb3-93c1-e2c00c1be0fe",
   "metadata": {},
   "outputs": [],
   "source": [
    "def get_prim(x1,x2,x3,y1,y2,y3):\n",
    "    x1_max = max(x1)\n",
    "    x2_max = max(x2)\n",
    "    x3_max = max(x3)\n",
    "    x1_min = min(x1)\n",
    "    x2_min = min(x2)\n",
    "    x3_min = min(x3)\n",
    "    \n",
    "    y1_max = max(y1)\n",
    "    y2_max = max(y2)\n",
    "    y3_max = max(y3)\n",
    "    y1_min = min(y1)\n",
    "    y2_min = min(y2)\n",
    "    y3_min = min(y3)\n",
    "    x_max_list = [x1_max, x2_max, x3_max]\n",
    "    x_min_list = [x1_min, x2_min, x3_min]\n",
    "    y_max_list = [y1_max, y2_max, y3_max]\n",
    "    y_min_list = [y1_min, y2_min, y3_min]\n",
    "\n",
    "    prim_x_max = max(x_max_list)\n",
    "    prim_x_min = min(x_min_list)\n",
    "    prim_y_max = max(y_max_list)\n",
    "    prim_y_min = min(y_min_list)\n",
    "    \n",
    "    x_max = max([abs(prim_x_max),abs(prim_x_min)])\n",
    "    y_max = max([abs(prim_y_max),abs(prim_y_min)])\n",
    "    return x_max,y_max\n",
    "\n",
    "x_max,y_max = get_prim(x1,x2,x3,y1,y2,y3)"
   ]
  },
  {
   "cell_type": "code",
   "execution_count": 522,
   "id": "535956e7-35eb-45d0-a7fc-fe0b381f97e9",
   "metadata": {},
   "outputs": [
    {
     "name": "stdout",
     "output_type": "stream",
     "text": [
      "last sim num = 18\n"
     ]
    }
   ],
   "source": [
    "# sim_num = 4\n",
    "print(f'last sim num = {sim_num}')"
   ]
  },
  {
   "cell_type": "code",
   "execution_count": 523,
   "id": "5f00333d-7603-4597-95dc-c4a85e76aa90",
   "metadata": {},
   "outputs": [
    {
     "name": "stderr",
     "output_type": "stream",
     "text": [
      "100%|████████████████████████████████████████▊| 199/200 [00:07<00:00, 30.48it/s]"
     ]
    },
    {
     "data": {
      "image/png": "[encoded data removed]",
      "text/plain": [
       "<Figure size 640x480 with 1 Axes>"
      ]
     },
     "metadata": {},
     "output_type": "display_data"
    },
    {
     "data": {
      "image/png": "[encoded data removed]",
      "text/plain": [
       "<Figure size 640x480 with 1 Axes>"
      ]
     },
     "metadata": {},
     "output_type": "display_data"
    },
    {
     "data": {
      "text/plain": [
       "0"
      ]
     },
     "execution_count": 523,
     "metadata": {},
     "output_type": "execute_result"
    },
    {
     "name": "stderr",
     "output_type": "stream",
     "text": [
      "100%|████████████████████████████████████████▊| 199/200 [00:23<00:00, 30.48it/s]"
     ]
    }
   ],
   "source": [
    "# https://github.com/zaman13/Double-Pendulum-Motion-Animation/blob/master/Python%20Code/Double_Pendulum_v1.py\n",
    "import pylab as py\n",
    "from matplotlib import animation, rc\n",
    "import os\n",
    "\n",
    "sim_num+=1\n",
    "save_name = f'test{sim_num}'\n",
    "\n",
    "py.close('all')\n",
    "\n",
    "py.figure(1)\n",
    "#py.plot(t,x1)\n",
    "#py.plot(t,y1)\n",
    "py.plot(x1[0],y1[0],'.',color = '#0077BE',label = 'mass 1')\n",
    "py.plot(x2[0],y2[0],'.',color = '#f66338',label = 'mass 2' )\n",
    "py.legend()\n",
    "py.xlabel('x (m)')\n",
    "py.ylabel('y (m)')\n",
    "\n",
    "#py.figure(2)\n",
    "#py.plot(t,x2)\n",
    "#py.plot(t,y2)\n",
    "fig = plt.figure()\n",
    "ax = plt.axes(xlim=(-1 * x_max, x_max), ylim=(-1* y_max, y_max))\n",
    "ax.set_aspect('equal')\n",
    "ax.grid()\n",
    "\n",
    "#line, = ax.plot([], [], lw=2,,markersize = 9, markerfacecolor = \"#FDB813\",markeredgecolor =\"#FD7813\")\n",
    "line1, = ax.plot([], [], 'o-',color = '#FF0000',markersize = 10, markerfacecolor = '#FF0000',lw=2, markevery=10000, markeredgecolor = 'k')   # line1, bot left edge\n",
    "line2, = ax.plot([], [], 'o-',color = '#00fff7',markersize = 10, markerfacecolor = '#00fff7',lw=2, markevery=10000, markeredgecolor = 'k')   # line2, bot right edge\n",
    "line3, = ax.plot([], [], 'o-',color = '#d2eeff',markersize = 10, markerfacecolor = '#d2eeff',lw=2, markevery=10000, markeredgecolor = 'k')   # line3, bot left knee\n",
    "# line4, = ax.plot([], [], 'o-',color = '#ffebd8',markersize = 8, markerfacecolor = '#f66338',lw=2, markevery=10000, markeredgecolor = 'k')   # line4, bot left foot\n",
    "# line5, = ax.plot([], [], 'o-',color = '#d2eeff',markersize = 8, markerfacecolor = '#0077BE',lw=2, markevery=10000, markeredgecolor = 'k')   # line5, bot right knee\n",
    "# line6, = ax.plot([], [], 'o-',color = '#ffebd8',markersize = 8, markerfacecolor = '#f66338',lw=2, markevery=10000, markeredgecolor = 'k')   # line6, bot right foot\n",
    "\n",
    "# line_bot, = ax.plot([], [], color='k', linestyle='-', linewidth=6)\n",
    "# line_left_1, = ax.plot([], [], color='k', linestyle='-', linewidth=2)\n",
    "# line_left_2, = ax.plot([], [], color='k', linestyle='-', linewidth=2)\n",
    "# line_right_1, = ax.plot([], [], color='k', linestyle='-', linewidth=2)\n",
    "# line_right_2, = ax.plot([], [], color='k', linestyle='-', linewidth=2)\n",
    "\n",
    "# line5, = ax.plot([], [], 'o', color='k', markersize = 10)\n",
    "time_template = 'Time = %.1f s'\n",
    "time_string = ax.text(0.05, 0.9, '', transform=ax.transAxes)\n",
    "\n",
    "# ground_bar, = ax.plot([], [], color='k', linestyle='-', linewidth=3)\n",
    "\n",
    "# initialization function: plot the background of each frame\n",
    "def init():\n",
    "    # ground_bar.set_data([-8,8],[0,0])\n",
    "\n",
    "    # These are dots\n",
    "    line1.set_data([], [])\n",
    "    line2.set_data([], [])\n",
    "    line3.set_data([], [])\n",
    "    # line4.set_data([], [])\n",
    "    # line5.set_data([], [])\n",
    "    # line6.set_data([], [])\n",
    "\n",
    "    # These are lines\n",
    "    # line_bot.set_data([], [])\n",
    "    # line_left_1.set_data([], [])\n",
    "    # line_left_2.set_data([], [])\n",
    "    # line_right_1.set_data([], [])\n",
    "    # line_right_2.set_data([], [])\n",
    "    \n",
    "    time_string.set_text('')\n",
    "\n",
    "    # return  line1, line2, line3, line4, line5, line6, line_bot, line_left_1, line_left_2, line_right_1, line_right_2 ,time_string,ground_bar\n",
    "    return  line1, line2, line3,time_string\n",
    "\n",
    "\n",
    "\n",
    "# animation function.  This is called sequentially\n",
    "def animate(i):\n",
    "    trail1 = 600              # length of motion trail of weight 1 \n",
    "    # trail2 = 8              # length of motion trail of weight 2\n",
    "    dt = 100        # time step\n",
    "\n",
    "    line1.set_data(x1[i], y1[i])   # body left edge\n",
    "    line2.set_data(x2[i], y2[i])   # body right edge \n",
    "    line3.set_data(x3[i], y3[i])\n",
    "#     line4.set_data(left_foot_x[i], left_foot_y[i])\n",
    "#     line5.set_data(right_knee_x[i], right_knee_y[i])\n",
    "#     line6.set_data(right_foot_x[i], right_foot_y[i])\n",
    "    line1.set_data(x1[i:max(1,i-trail1):-1], y1[i:max(1,i-trail1):-1])   # marker + line of first weight\n",
    "    line2.set_data(x2[i:max(1,i-trail1):-1], y2[i:max(1,i-trail1):-1])   # marker + line of the second weight\n",
    "    line3.set_data(x3[i:max(1,i-trail1):-1], y3[i:max(1,i-trail1):-1])\n",
    "\n",
    "#     line_bot.set_data([body_left_x[i], body_right_x[i]], [body_left_y[i], body_right_y[i]])\n",
    "#     line_left_1.set_data([body_left_x[i], left_knee_x[i]], [body_left_y[i], left_knee_y[i]])\n",
    "#     line_left_2.set_data([left_knee_x[i], left_foot_x[i]], [left_knee_y[i], left_foot_y[i]])\n",
    "#     line_right_1.set_data([body_right_x[i], right_knee_x[i]], [body_right_y[i], right_knee_y[i]])\n",
    "#     line_right_2.set_data([right_knee_x[i], right_foot_x[i]], [right_knee_y[i], right_foot_y[i]])\n",
    "    \n",
    "    # line3.set_data([x1[i], x2[i]], [y1[i], y2[i]])       # line connecting y1 block to weight 1\n",
    "    # line4.set_data([x2[i], x3[i]], [y2[i],y3[i]])                # line connecting weight 1 to weight 2\n",
    "\n",
    "    # line5.set_data([x1[i]], [y1[i]]) # y1 block\n",
    "    time_string.set_text(time_template % (i*dt))\n",
    "\n",
    "    # return  line1, line2, line3, line4, line5, line6, line_bot, line_left_1, line_left_2, line_right_1, line_right_2 ,time_string,ground_bar\n",
    "    return  line1, line2, line3,time_string\n",
    "\n",
    "fps = 30\n",
    "\n",
    "# Add progress bar method is found from:\n",
    "# https://stackoverflow.com/questions/60998231/python-how-to-make-tqdm-print-one-line-of-progress-bar-in-shell\n",
    "anim = animation.FuncAnimation(fig, animate, init_func=init,\n",
    "                               frames=tqdm(range(animation_time_step), position=0, leave=True), interval=1/fps, blit=True)\n",
    "\n",
    "\n",
    "anim.save('{}.mp4'.format( save_name), fps=fps, extra_args=['-vcodec', 'libx264'])\n",
    "\n",
    "# print('Saved to ./visualized/Simulation No{}/{}.mp4'.format(, save_name))\n",
    "\n",
    "\n",
    "\n",
    "\n",
    "plt.show()\n",
    "os.system('say \"Please be adviced that your lengthy calculation has beed successfully executed, animation is ready to be reviewed\"')\n"
   ]
  },
  {
   "cell_type": "code",
   "execution_count": null,
   "id": "593ed613-0cd3-423b-8467-9afb23ac51c5",
   "metadata": {},
   "outputs": [],
   "source": []
  },
  {
   "cell_type": "code",
   "execution_count": null,
   "id": "be478e16-4881-4371-89ca-f50c9fe02a03",
   "metadata": {},
   "outputs": [],
   "source": []
  },
  {
   "cell_type": "code",
   "execution_count": null,
   "id": "20952a60-6dcc-4e8f-8e7e-907074a86093",
   "metadata": {},
   "outputs": [],
   "source": []
  },
  {
   "cell_type": "code",
   "execution_count": null,
   "id": "84722c11-d840-454b-886c-d105f05986cf",
   "metadata": {},
   "outputs": [],
   "source": []
  }
 ],
 "metadata": {
  "kernelspec": {
   "display_name": "Python 3 (ipykernel)",
   "language": "python",
   "name": "python3"
  },
  "language_info": {
   "codemirror_mode": {
    "name": "ipython",
    "version": 3
   },
   "file_extension": ".py",
   "mimetype": "text/x-python",
   "name": "python",
   "nbconvert_exporter": "python",
   "pygments_lexer": "ipython3",
   "version": "3.10.8"
  }
 },
 "nbformat": 4,
 "nbformat_minor": 5
}
