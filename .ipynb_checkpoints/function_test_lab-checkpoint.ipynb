{
 "cells": [
  {
   "cell_type": "code",
   "execution_count": 1,
   "metadata": {},
   "outputs": [],
   "source": [
    "import numpy as np\n",
    "from tqdm import tqdm\n",
    "import matplotlib.pyplot as plt\n",
    "n = 3"
   ]
  },
  {
   "cell_type": "code",
   "execution_count": 3,
   "metadata": {},
   "outputs": [
    {
     "data": {
      "text/plain": [
       "array([[0.57048251, 0.77198629, 0.17391887],\n",
       "       [0.79975609, 0.06829413, 0.02050708],\n",
       "       [0.62919966, 0.30234211, 0.39463279]])"
      ]
     },
     "execution_count": 3,
     "metadata": {},
     "output_type": "execute_result"
    }
   ],
   "source": [
    "mass_vector = np.random.rand(3,3)\n",
    "mass_vector\n"
   ]
  },
  {
   "cell_type": "code",
   "execution_count": 4,
   "metadata": {},
   "outputs": [
    {
     "data": {
      "text/plain": [
       "0.7719862907504159"
      ]
     },
     "execution_count": 4,
     "metadata": {},
     "output_type": "execute_result"
    }
   ],
   "source": [
    "mass_vector[0, 1]"
   ]
  },
  {
   "cell_type": "code",
   "execution_count": null,
   "metadata": {},
   "outputs": [],
   "source": []
  },
  {
   "cell_type": "code",
   "execution_count": 7,
   "metadata": {},
   "outputs": [],
   "source": [
    "# Variable Initializations \n",
    "p = np.zeros([3 * n, 1]) # generalized coordinate vector -> [x1, y1, z1, x2, y2, z2, ... , xn, yn, zn].T\n",
    "# print(p)\n",
    "\n",
    "dpdt = np.zeros([3 * n, 1]) #  generalized velocity vector\n",
    "# print(dpdt)\n",
    "\n",
    "ddpdtt = np.zeros([3 * n, 1]) #  generalized acceleraction vector\n",
    "# print(dpdt)\n",
    "\n",
    "G = 6.6743e-11 # [m^3/(kg^1*s^2)]\n",
    "\n",
    "mass_vector = np.zeros([n, 1])\n",
    "for i in range(n):\n",
    "    mass_vector[i] = 1e22\n",
    "# print(mass_vector)\n",
    "\n",
    "# F_dir = np.zeros([3 * n, n]) # gravtational_interaction_matrix\n",
    "def update_gravtational_interaction_matrix(p):\n",
    "    n = int(len(p) / 3)\n",
    "    F_dir = np.zeros([3 * n, n]) # empty gravtational_interaction_matrix\n",
    "\n",
    "    n = F_dir.shape[1] # Get the column number \n",
    "\n",
    "    p_i = np.zeros([3,1])\n",
    "    p_j = np.zeros([3,1])\n",
    "\n",
    "    for i in range(n):\n",
    "        for k in range(3):\n",
    "            p_i[k] = p[i * 3 + k] \n",
    "        for j in range(n):\n",
    "            if i == j: # Diagonal \n",
    "                F_dir[i*3+0,j] = 0.0\n",
    "                F_dir[i*3+1,j] = 0.0\n",
    "                F_dir[i*3+2,j] = 0.0\n",
    "            elif j > i: # Upper triangle exculding the diagnal\n",
    "                for k in range(3):\n",
    "                    p_j[k] = p[j * 3 + k]\n",
    "                F_ij = (p_j - p_i) / np.linalg.norm(p_j - p_i)**3\n",
    "                \n",
    "                for k in range(3):\n",
    "                    F_dir[i * 3 + k, j] = F_ij[k].item()\n",
    "                    F_dir[j * 3 + k, i] = -1. * F_ij[k].item()\n",
    "\n",
    "            else:\n",
    "                pass \n",
    "    return F_dir\n",
    "\n"
   ]
  },
  {
   "cell_type": "code",
   "execution_count": 8,
   "metadata": {},
   "outputs": [
    {
     "data": {
      "text/plain": [
       "array([[ 0.        ,  0.50488241,  0.75750011],\n",
       "       [ 0.        , -1.17755109, -1.59853289],\n",
       "       [ 0.        ,  0.42662145,  1.39626929],\n",
       "       [-0.50488241,  0.        , -2.80946302],\n",
       "       [ 1.17755109,  0.        ,  7.98040357],\n",
       "       [-0.42662145,  0.        ,  4.04494768],\n",
       "       [-0.75750011,  2.80946302,  0.        ],\n",
       "       [ 1.59853289, -7.98040357,  0.        ],\n",
       "       [-1.39626929, -4.04494768,  0.        ]])"
      ]
     },
     "execution_count": 8,
     "metadata": {},
     "output_type": "execute_result"
    }
   ],
   "source": [
    "p_0 = np.random.random([3 * n, 1]) # Initial position of the bodies\n",
    "update_gravtational_interaction_matrix(p_0)"
   ]
  },
  {
   "cell_type": "code",
   "execution_count": 42,
   "metadata": {},
   "outputs": [
    {
     "name": "stdout",
     "output_type": "stream",
     "text": [
      "1680.4102564102564\n"
     ]
    }
   ],
   "source": [
    "import time \n",
    "\n",
    "start_time = time.time()\n",
    "update_gravtational_interaction_matrix(p_0)\n",
    "print(1/(time.time() - start_time))\n",
    "\n"
   ]
  },
  {
   "cell_type": "code",
   "execution_count": 43,
   "metadata": {},
   "outputs": [],
   "source": [
    "# solution bucket structure [[timestamp, position, velocity]]\n",
    "solution_bucket = []\n",
    "dt = 0.1\n",
    "for i in range(10):\n",
    "    solution_bucket.append([dt * i, p, dpdt])\n",
    "# solution_bucket"
   ]
  },
  {
   "cell_type": "code",
   "execution_count": 44,
   "metadata": {},
   "outputs": [
    {
     "data": {
      "text/plain": [
       "array([0.27046063])"
      ]
     },
     "execution_count": 44,
     "metadata": {},
     "output_type": "execute_result"
    }
   ],
   "source": [
    "np.ndarray(1)"
   ]
  },
  {
   "cell_type": "code",
   "execution_count": 45,
   "metadata": {},
   "outputs": [
    {
     "data": {
      "text/plain": [
       "array([0.33223383, 0.25551077])"
      ]
     },
     "execution_count": 45,
     "metadata": {},
     "output_type": "execute_result"
    }
   ],
   "source": [
    "np.random.random(2) - 0.5"
   ]
  },
  {
   "cell_type": "code",
   "execution_count": 4,
   "metadata": {},
   "outputs": [],
   "source": [
    "# Initial conditions\n",
    "p_0 = (np.random.random([3 * n, 1])-0.5) * 1e8 # Initial position of the bodies\n",
    "# dpdt_0 = (np.random.random([3 * n, 1])-0.5) * 1e5# Initial velocities of the bodies\n",
    "# dpdt_0 = np.zeros([3 * n, 1])\n",
    "dpdt_0 = np.array([1.e5,\n",
    "                   0,\n",
    "                   0.,\n",
    "                   1e5,\n",
    "                   0,\n",
    "                   0.,\n",
    "                   1e5,\n",
    "                   0,\n",
    "                   0.]).T"
   ]
  },
  {
   "cell_type": "code",
   "execution_count": 13,
   "metadata": {},
   "outputs": [
    {
     "data": {
      "text/plain": [
       "array([[0.42211598, 0.94188164, 0.07289613, 0.7438552 , 0.19148043,\n",
       "        0.3447631 , 0.6460239 , 0.46937455, 0.48561653]])"
      ]
     },
     "execution_count": 13,
     "metadata": {},
     "output_type": "execute_result"
    }
   ],
   "source": [
    "p_0.T\n"
   ]
  },
  {
   "cell_type": "code",
   "execution_count": 36,
   "metadata": {},
   "outputs": [
    {
     "data": {
      "text/plain": [
       "array([100000.,      0.,      0., 100000.,      0.,      0., 100000.,\n",
       "            0.,      0.])"
      ]
     },
     "execution_count": 36,
     "metadata": {},
     "output_type": "execute_result"
    }
   ],
   "source": [
    "dqdt_0"
   ]
  },
  {
   "cell_type": "code",
   "execution_count": 9,
   "metadata": {},
   "outputs": [
    {
     "name": "stdout",
     "output_type": "stream",
     "text": [
      "simulation time is 13.88888888888889 days\n"
     ]
    }
   ],
   "source": [
    "# Constants\n",
    "n = 3\n",
    "G = 6.6743e-11 # [m^3/(kg^1*s^2)]\n",
    "\n",
    "mass_vector = np.zeros([n, 1])\n",
    "for i in range(n):\n",
    "    mass_vector[i] = 1e22\n",
    "\n",
    "# Simulation_conditions\n",
    "dt = 100\n",
    "simulation_steps = 12000\n",
    "\n",
    "print(f'simulation time is {dt * simulation_steps / (60*60*24)} days')\n",
    "# Euler's method\n",
    "def i_will_return_the_rough_n_body_problem_solution_for_im_using_the_eulers_method(dt, simulation_steps, initial_p, initial_dpdt, mass_vector):\n",
    "\n",
    "    \n",
    "    # Data logger\n",
    "    # time_stamp = np.zeros(1)\n",
    "    # print(time_stamp)\n",
    "    # p_solution = np.zeros([3 * n, 1])\n",
    "    # dpdt_solution = np.zeros([3 * n, 1])\n",
    "\n",
    "    # Log the initial conditions\n",
    "    time_stamp = np.ndarray(1)\n",
    "    time_stamp[0] = 0.0\n",
    "    p_solution = initial_p\n",
    "    dpdt_solution = initial_dpdt\n",
    "    \n",
    "    # Initial conditions & start calculating\n",
    "    p_k = initial_p\n",
    "    dpdt_k = initial_dpdt\n",
    "    for step in tqdm(range(simulation_steps)):\n",
    "        F_dir_matrix_k = update_gravtational_interaction_matrix(p_k) \n",
    "        \n",
    "        # Euler's method \n",
    "        p_k_plus_1 = p_k + dt * dpdt_k\n",
    "        dpdt_k_plus_1 = dpdt_k + dt * G * F_dir_matrix_k.dot(mass_vector)\n",
    "        # print(F_dir_matrix_k.dot(mass_vector))\n",
    "        # Log the results\n",
    "        time_stamp = np.c_[time_stamp, (step+1) * dt]\n",
    "        p_solution = np.c_[p_solution, p_k_plus_1]\n",
    "        dpdt_solution = np.c_[dpdt_solution, dpdt_k_plus_1]\n",
    "        \n",
    "        # Update p_[k] and dpdt_[k]\n",
    "        p_k = p_k_plus_1\n",
    "        dpdt_k = dpdt_k_plus_1\n",
    "        \n",
    "    solution = [time_stamp, p_solution, dpdt_solution]\n",
    "    return solution"
   ]
  },
  {
   "cell_type": "code",
   "execution_count": 15,
   "metadata": {},
   "outputs": [
    {
     "name": "stderr",
     "output_type": "stream",
     "text": [
      "  0%|                                       | 1/12000 [00:00<00:07, 1633.30it/s]\n"
     ]
    },
    {
     "ename": "ValueError",
     "evalue": "could not broadcast input array from shape (9,) into shape (1,)",
     "output_type": "error",
     "traceback": [
      "\u001b[0;31m---------------------------------------------------------------------------\u001b[0m",
      "\u001b[0;31mValueError\u001b[0m                                Traceback (most recent call last)",
      "Cell \u001b[0;32mIn [15], line 1\u001b[0m\n\u001b[0;32m----> 1\u001b[0m sol \u001b[38;5;241m=\u001b[39m \u001b[43mi_will_return_the_rough_n_body_problem_solution_for_im_using_the_eulers_method\u001b[49m\u001b[43m(\u001b[49m\u001b[43mdt\u001b[49m\u001b[43m,\u001b[49m\u001b[43m \u001b[49m\u001b[43msimulation_steps\u001b[49m\u001b[43m,\u001b[49m\u001b[43m \u001b[49m\u001b[43mp_0\u001b[49m\u001b[43m,\u001b[49m\u001b[43m \u001b[49m\u001b[43mdpdt_0\u001b[49m\u001b[43m,\u001b[49m\u001b[43m \u001b[49m\u001b[43mmass_vector\u001b[49m\u001b[43m)\u001b[49m\n",
      "Cell \u001b[0;32mIn [9], line 34\u001b[0m, in \u001b[0;36mi_will_return_the_rough_n_body_problem_solution_for_im_using_the_eulers_method\u001b[0;34m(dt, simulation_steps, initial_p, initial_dpdt, mass_vector)\u001b[0m\n\u001b[1;32m     32\u001b[0m dpdt_k \u001b[38;5;241m=\u001b[39m initial_dpdt\n\u001b[1;32m     33\u001b[0m \u001b[38;5;28;01mfor\u001b[39;00m step \u001b[38;5;129;01min\u001b[39;00m tqdm(\u001b[38;5;28mrange\u001b[39m(simulation_steps)):\n\u001b[0;32m---> 34\u001b[0m     F_dir_matrix_k \u001b[38;5;241m=\u001b[39m \u001b[43mupdate_gravtational_interaction_matrix\u001b[49m\u001b[43m(\u001b[49m\u001b[43mp_k\u001b[49m\u001b[43m)\u001b[49m \n\u001b[1;32m     36\u001b[0m     \u001b[38;5;66;03m# Euler's method \u001b[39;00m\n\u001b[1;32m     37\u001b[0m     p_k_plus_1 \u001b[38;5;241m=\u001b[39m p_k \u001b[38;5;241m+\u001b[39m dt \u001b[38;5;241m*\u001b[39m dpdt_k\n",
      "Cell \u001b[0;32mIn [7], line 30\u001b[0m, in \u001b[0;36mupdate_gravtational_interaction_matrix\u001b[0;34m(p)\u001b[0m\n\u001b[1;32m     28\u001b[0m \u001b[38;5;28;01mfor\u001b[39;00m i \u001b[38;5;129;01min\u001b[39;00m \u001b[38;5;28mrange\u001b[39m(n):\n\u001b[1;32m     29\u001b[0m     \u001b[38;5;28;01mfor\u001b[39;00m k \u001b[38;5;129;01min\u001b[39;00m \u001b[38;5;28mrange\u001b[39m(\u001b[38;5;241m3\u001b[39m):\n\u001b[0;32m---> 30\u001b[0m         \u001b[43mp_i\u001b[49m\u001b[43m[\u001b[49m\u001b[43mk\u001b[49m\u001b[43m]\u001b[49m \u001b[38;5;241m=\u001b[39m p[i \u001b[38;5;241m*\u001b[39m \u001b[38;5;241m3\u001b[39m \u001b[38;5;241m+\u001b[39m k] \n\u001b[1;32m     31\u001b[0m     \u001b[38;5;28;01mfor\u001b[39;00m j \u001b[38;5;129;01min\u001b[39;00m \u001b[38;5;28mrange\u001b[39m(n):\n\u001b[1;32m     32\u001b[0m         \u001b[38;5;28;01mif\u001b[39;00m i \u001b[38;5;241m==\u001b[39m j: \u001b[38;5;66;03m# Diagonal \u001b[39;00m\n",
      "\u001b[0;31mValueError\u001b[0m: could not broadcast input array from shape (9,) into shape (1,)"
     ]
    }
   ],
   "source": [
    "sol = i_will_return_the_rough_n_body_problem_solution_for_im_using_the_eulers_method(dt, simulation_steps, p_0, dpdt_0, mass_vector)"
   ]
  },
  {
   "cell_type": "code",
   "execution_count": 32,
   "metadata": {},
   "outputs": [
    {
     "ename": "NameError",
     "evalue": "name 'x1' is not defined",
     "output_type": "error",
     "traceback": [
      "\u001b[0;31m---------------------------------------------------------------------------\u001b[0m",
      "\u001b[0;31mNameError\u001b[0m                                 Traceback (most recent call last)",
      "Cell \u001b[0;32mIn [32], line 1\u001b[0m\n\u001b[0;32m----> 1\u001b[0m \u001b[38;5;28mlen\u001b[39m(\u001b[43mx1\u001b[49m)\n",
      "\u001b[0;31mNameError\u001b[0m: name 'x1' is not defined"
     ]
    }
   ],
   "source": [
    "len(x1)\n"
   ]
  },
  {
   "cell_type": "code",
   "execution_count": 33,
   "metadata": {},
   "outputs": [
    {
     "ename": "NameError",
     "evalue": "name 'sol' is not defined",
     "output_type": "error",
     "traceback": [
      "\u001b[0;31m---------------------------------------------------------------------------\u001b[0m",
      "\u001b[0;31mNameError\u001b[0m                                 Traceback (most recent call last)",
      "Cell \u001b[0;32mIn [33], line 1\u001b[0m\n\u001b[0;32m----> 1\u001b[0m t_span \u001b[38;5;241m=\u001b[39m \u001b[43msol\u001b[49m[\u001b[38;5;241m0\u001b[39m]\u001b[38;5;241m.\u001b[39mT\n\u001b[1;32m      2\u001b[0m x1 \u001b[38;5;241m=\u001b[39m sol[\u001b[38;5;241m1\u001b[39m][\u001b[38;5;241m0\u001b[39m]\n\u001b[1;32m      3\u001b[0m y1 \u001b[38;5;241m=\u001b[39m sol[\u001b[38;5;241m1\u001b[39m][\u001b[38;5;241m1\u001b[39m]\n",
      "\u001b[0;31mNameError\u001b[0m: name 'sol' is not defined"
     ]
    }
   ],
   "source": [
    "t_span = sol[0].T\n",
    "x1 = sol[1][0]\n",
    "y1 = sol[1][1]\n",
    "\n",
    "x2 = sol[1][3]\n",
    "y2 = sol[1][4]\n",
    "\n",
    "x3 = sol[1][6]\n",
    "y3 = sol[1][7]\n",
    "\n",
    "l = [x1,x2,x3,y1,y2,y3]\n",
    "for item in l:\n",
    "    plt.plot(item)\n",
    "plt.grid()\n",
    "plt.show()"
   ]
  },
  {
   "cell_type": "code",
   "execution_count": null,
   "metadata": {},
   "outputs": [],
   "source": []
  },
  {
   "cell_type": "code",
   "execution_count": 810,
   "metadata": {},
   "outputs": [
    {
     "data": {
      "image/png": "[encoded data removed]",
      "text/plain": [
       "<Figure size 640x480 with 1 Axes>"
      ]
     },
     "metadata": {},
     "output_type": "display_data"
    }
   ],
   "source": [
    "plt.plot(x1,y1)\n",
    "plt.plot(x2,y2)\n",
    "plt.plot(x3,y3)\n",
    "# plt.plot(t_span, x1)\n",
    "plt.grid()\n",
    "plt.ylabel('y plane [m]')\n",
    "plt.xlabel('x plane [m]')\n",
    "plt.show()"
   ]
  },
  {
   "cell_type": "code",
   "execution_count": 805,
   "metadata": {},
   "outputs": [],
   "source": [
    "# class n_body_system():\n",
    "#     def __init__(self, n) -> None:\n",
    "#         self.n = n\n",
    "        \n",
    "\n",
    "#     def euler_integrations"
   ]
  },
  {
   "cell_type": "code",
   "execution_count": 811,
   "metadata": {},
   "outputs": [
    {
     "name": "stderr",
     "output_type": "stream",
     "text": [
      "100%|████████████████████████████████████▉| 11998/12000 [09:47<00:00, 21.93it/s]"
     ]
    },
    {
     "data": {
      "image/png": "[encoded data removed]",
      "text/plain": [
       "<Figure size 640x480 with 1 Axes>"
      ]
     },
     "metadata": {},
     "output_type": "display_data"
    },
    {
     "data": {
      "image/png": "[encoded data removed]",
      "text/plain": [
       "<Figure size 640x480 with 1 Axes>"
      ]
     },
     "metadata": {},
     "output_type": "display_data"
    },
    {
     "data": {
      "text/plain": [
       "0"
      ]
     },
     "execution_count": 811,
     "metadata": {},
     "output_type": "execute_result"
    },
    {
     "name": "stderr",
     "output_type": "stream",
     "text": [
      "100%|████████████████████████████████████▉| 11998/12000 [10:00<00:00, 21.93it/s]"
     ]
    }
   ],
   "source": [
    "# https://github.com/zaman13/Double-Pendulum-Motion-Animation/blob/master/Python%20Code/Double_Pendulum_v1.py\n",
    "import pylab as py\n",
    "from matplotlib import animation, rc\n",
    "import os\n",
    "save_name = 'test3'\n",
    "\n",
    "\n",
    "\n",
    "py.close('all')\n",
    "\n",
    "py.figure(1)\n",
    "#py.plot(t,x1)\n",
    "#py.plot(t,y1)\n",
    "py.plot(x1[0],y1[0],'.',color = '#0077BE',label = 'mass 1')\n",
    "py.plot(x2[0],y2[0],'.',color = '#f66338',label = 'mass 2' )\n",
    "py.legend()\n",
    "py.xlabel('x (m)')\n",
    "py.ylabel('y (m)')\n",
    "\n",
    "#py.figure(2)\n",
    "#py.plot(t,x2)\n",
    "#py.plot(t,y2)\n",
    "\n",
    "\n",
    "fig = plt.figure()\n",
    "ax = plt.axes(xlim=(-1e8, 1e8), ylim=(-1e8, 1e8))\n",
    "ax.set_aspect('equal')\n",
    "ax.grid()\n",
    "\n",
    "#line, = ax.plot([], [], lw=2,,markersize = 9, markerfacecolor = \"#FDB813\",markeredgecolor =\"#FD7813\")\n",
    "line1, = ax.plot([], [], 'o-',color = '#FF0000',markersize = 10, markerfacecolor = '#FF0000',lw=2, markevery=10000, markeredgecolor = 'k')   # line1, bot left edge\n",
    "line2, = ax.plot([], [], 'o-',color = '#00fff7',markersize = 10, markerfacecolor = '#00fff7',lw=2, markevery=10000, markeredgecolor = 'k')   # line2, bot right edge\n",
    "line3, = ax.plot([], [], 'o-',color = '#d2eeff',markersize = 10, markerfacecolor = '#d2eeff',lw=2, markevery=10000, markeredgecolor = 'k')   # line3, bot left knee\n",
    "# line4, = ax.plot([], [], 'o-',color = '#ffebd8',markersize = 8, markerfacecolor = '#f66338',lw=2, markevery=10000, markeredgecolor = 'k')   # line4, bot left foot\n",
    "# line5, = ax.plot([], [], 'o-',color = '#d2eeff',markersize = 8, markerfacecolor = '#0077BE',lw=2, markevery=10000, markeredgecolor = 'k')   # line5, bot right knee\n",
    "# line6, = ax.plot([], [], 'o-',color = '#ffebd8',markersize = 8, markerfacecolor = '#f66338',lw=2, markevery=10000, markeredgecolor = 'k')   # line6, bot right foot\n",
    "\n",
    "# line_bot, = ax.plot([], [], color='k', linestyle='-', linewidth=6)\n",
    "# line_left_1, = ax.plot([], [], color='k', linestyle='-', linewidth=2)\n",
    "# line_left_2, = ax.plot([], [], color='k', linestyle='-', linewidth=2)\n",
    "# line_right_1, = ax.plot([], [], color='k', linestyle='-', linewidth=2)\n",
    "# line_right_2, = ax.plot([], [], color='k', linestyle='-', linewidth=2)\n",
    "\n",
    "# line5, = ax.plot([], [], 'o', color='k', markersize = 10)\n",
    "time_template = 'Time = %.1f s'\n",
    "time_string = ax.text(0.05, 0.9, '', transform=ax.transAxes)\n",
    "\n",
    "# ground_bar, = ax.plot([], [], color='k', linestyle='-', linewidth=3)\n",
    "\n",
    "# initialization function: plot the background of each frame\n",
    "def init():\n",
    "    # ground_bar.set_data([-8,8],[0,0])\n",
    "\n",
    "    # These are dots\n",
    "    line1.set_data([], [])\n",
    "    line2.set_data([], [])\n",
    "    line3.set_data([], [])\n",
    "    # line4.set_data([], [])\n",
    "    # line5.set_data([], [])\n",
    "    # line6.set_data([], [])\n",
    "\n",
    "    # These are lines\n",
    "    # line_bot.set_data([], [])\n",
    "    # line_left_1.set_data([], [])\n",
    "    # line_left_2.set_data([], [])\n",
    "    # line_right_1.set_data([], [])\n",
    "    # line_right_2.set_data([], [])\n",
    "    \n",
    "    time_string.set_text('')\n",
    "\n",
    "    # return  line1, line2, line3, line4, line5, line6, line_bot, line_left_1, line_left_2, line_right_1, line_right_2 ,time_string,ground_bar\n",
    "    return  line1, line2, line3,time_string\n",
    "\n",
    "\n",
    "\n",
    "\n",
    "\n",
    "\n",
    "# plt.plot(body_left_x, body_left_y)\n",
    "# plt.plot(body_right_x, body_right_y,)\n",
    "# plt.plot(left_knee_x, left_knee_y)\n",
    "# plt.plot(left_foot_x, left_foot_y)\n",
    "# plt.plot(right_knee_x, right_knee_y)\n",
    "# plt.plot(right_foot_x, right_foot_y)\n",
    "\n",
    "# animation function.  This is called sequentially\n",
    "def animate(i):\n",
    "    trail1 = 600              # length of motion trail of weight 1 \n",
    "    # trail2 = 8              # length of motion trail of weight 2\n",
    "    dt = 100        # time step\n",
    "\n",
    "    line1.set_data(x1[i], y1[i])   # body left edge\n",
    "    line2.set_data(x2[i], y2[i])   # body right edge \n",
    "    line3.set_data(x3[i], y3[i])\n",
    "#     line4.set_data(left_foot_x[i], left_foot_y[i])\n",
    "#     line5.set_data(right_knee_x[i], right_knee_y[i])\n",
    "#     line6.set_data(right_foot_x[i], right_foot_y[i])\n",
    "    line1.set_data(x1[i:max(1,i-trail1):-1], y1[i:max(1,i-trail1):-1])   # marker + line of first weight\n",
    "    line2.set_data(x2[i:max(1,i-trail1):-1], y2[i:max(1,i-trail1):-1])   # marker + line of the second weight\n",
    "    line3.set_data(x3[i:max(1,i-trail1):-1], y3[i:max(1,i-trail1):-1])\n",
    "\n",
    "#     line_bot.set_data([body_left_x[i], body_right_x[i]], [body_left_y[i], body_right_y[i]])\n",
    "#     line_left_1.set_data([body_left_x[i], left_knee_x[i]], [body_left_y[i], left_knee_y[i]])\n",
    "#     line_left_2.set_data([left_knee_x[i], left_foot_x[i]], [left_knee_y[i], left_foot_y[i]])\n",
    "#     line_right_1.set_data([body_right_x[i], right_knee_x[i]], [body_right_y[i], right_knee_y[i]])\n",
    "#     line_right_2.set_data([right_knee_x[i], right_foot_x[i]], [right_knee_y[i], right_foot_y[i]])\n",
    "    \n",
    "    # line3.set_data([x1[i], x2[i]], [y1[i], y2[i]])       # line connecting y1 block to weight 1\n",
    "    # line4.set_data([x2[i], x3[i]], [y2[i],y3[i]])                # line connecting weight 1 to weight 2\n",
    "\n",
    "    # line5.set_data([x1[i]], [y1[i]]) # y1 block\n",
    "    time_string.set_text(time_template % (i*dt))\n",
    "\n",
    "    # return  line1, line2, line3, line4, line5, line6, line_bot, line_left_1, line_left_2, line_right_1, line_right_2 ,time_string,ground_bar\n",
    "    return  line1, line2, line3,time_string\n",
    "\n",
    "fps = 120\n",
    "\n",
    "# Add progress bar method is found from:\n",
    "# https://stackoverflow.com/questions/60998231/python-how-to-make-tqdm-print-one-line-of-progress-bar-in-shell\n",
    "anim = animation.FuncAnimation(fig, animate, init_func=init,\n",
    "                               frames=tqdm(range(simulation_steps), position=0, leave=True), interval=1/fps, blit=True)\n",
    "\n",
    "\n",
    "# anim.save('./gif_output/{}.mp4'.format(save_name), fps=1.0/(t_span[2]-t_span[1]), extra_args=['-vcodec', 'libx264'])\n",
    "# anim.save('./visualized/{}.mp4'.format(save_name), fps=1.0/(t_span[2]-t_span[1]))\n",
    "anim.save('{}.mp4'.format( save_name), fps=fps, extra_args=['-vcodec', 'libx264'])\n",
    "\n",
    "# print('Saved to ./visualized/Simulation No{}/{}.mp4'.format(, save_name))\n",
    "\n",
    "\n",
    "\n",
    "\n",
    "plt.show()\n",
    "os.system('say \"Please be adviced that your lengthy calculation has beed successfully executed, animation is ready to be reviewed\"')\n"
   ]
  },
  {
   "cell_type": "code",
   "execution_count": null,
   "metadata": {},
   "outputs": [],
   "source": []
  }
 ],
 "metadata": {
  "kernelspec": {
   "display_name": "Python 3 (ipykernel)",
   "language": "python",
   "name": "python3"
  },
  "language_info": {
   "codemirror_mode": {
    "name": "ipython",
    "version": 3
   },
   "file_extension": ".py",
   "mimetype": "text/x-python",
   "name": "python",
   "nbconvert_exporter": "python",
   "pygments_lexer": "ipython3",
   "version": "3.10.8"
  }
 },
 "nbformat": 4,
 "nbformat_minor": 4
}
